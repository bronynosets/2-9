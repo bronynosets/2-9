{
 "cells": [
  {
   "cell_type": "code",
   "execution_count": 1,
   "id": "497c3619",
   "metadata": {},
   "outputs": [],
   "source": [
    "import matplotlib.pyplot as plt\n",
    "%matplotlib inline\n",
    "import networkx as nx\n",
    "import random"
   ]
  },
  {
   "cell_type": "code",
   "execution_count": 2,
   "id": "360ff90f",
   "metadata": {},
   "outputs": [],
   "source": [
    "G = nx.Graph()\n",
    "G.add_edge(0, 1)\n",
    "G.add_edge(1, 2)\n",
    "G.add_edge(0, 2)\n",
    "deg2 = 3\n",
    "xdata = []\n",
    "ydata = []"
   ]
  },
  {
   "cell_type": "code",
   "execution_count": 3,
   "id": "77615050",
   "metadata": {},
   "outputs": [
    {
     "name": "stdout",
     "output_type": "stream",
     "text": [
      "0.5025994801039793\n"
     ]
    }
   ],
   "source": [
    "for i in range(10000):\n",
    "    Ged = list(G.edges())\n",
    "    random_index = random.randrange(len(Ged))\n",
    "    i1 = Ged[random_index][0]\n",
    "    i2 = Ged[random_index][1]\n",
    "    deg2 += 1\n",
    "    if G.degree(i1) == 2:\n",
    "        deg2 -= 1\n",
    "    if G.degree(i2) == 2:\n",
    "        deg2 -= 1    \n",
    "    xdata.append(i)\n",
    "    ydata.append(deg2/(i+3))\n",
    "    G.add_edge(i1, i+3)\n",
    "    G.add_edge(i2, i+3)\n",
    "print(deg2/(i+3))"
   ]
  },
  {
   "cell_type": "code",
   "execution_count": 4,
   "id": "05cc5dc3",
   "metadata": {},
   "outputs": [
    {
     "data": {
      "text/plain": [
       "[<matplotlib.lines.Line2D at 0x2396d7f4cd0>]"
      ]
     },
     "execution_count": 4,
     "metadata": {},
     "output_type": "execute_result"
    },
    {
     "data": {
      "image/png": "[encoded data removed]",
      "text/plain": [
       "<Figure size 432x288 with 1 Axes>"
      ]
     },
     "metadata": {
      "needs_background": "light"
     },
     "output_type": "display_data"
    }
   ],
   "source": [
    "plt.plot(xdata, ydata)"
   ]
  },
  {
   "cell_type": "code",
   "execution_count": null,
   "id": "446cbdc6",
   "metadata": {},
   "outputs": [],
   "source": []
  }
 ],
 "metadata": {
  "kernelspec": {
   "display_name": "Python 3 (ipykernel)",
   "language": "python",
   "name": "python3"
  },
  "language_info": {
   "codemirror_mode": {
    "name": "ipython",
    "version": 3
   },
   "file_extension": ".py",
   "mimetype": "text/x-python",
   "name": "python",
   "nbconvert_exporter": "python",
   "pygments_lexer": "ipython3",
   "version": "3.10.4"
  }
 },
 "nbformat": 4,
 "nbformat_minor": 5
}
